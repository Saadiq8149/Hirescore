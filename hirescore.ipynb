{
 "cells": [
  {
   "cell_type": "markdown",
   "id": "adc92717",
   "metadata": {},
   "source": [
    "<center> <h1> HireScore </h1> </center>  \n",
    "\n",
    "**Predicting Student Placement & Salary Outcomes with Machine Learning**\n",
    "\n",
    "---\n",
    "\n",
    "### Project Summary  \n",
    "This notebook explores how academic performance, technical skills, and extracurricular involvement influence engineering students' placement success and salary offers (CTC in LPA).  \n",
    "We develop two supervised ML models:\n",
    "- A **classification model** to predict whether a student will be placed\n",
    "- A **regression model** to estimate the expected CTC (salary) for placed students\n",
    "\n",
    "\n"
   ]
  },
  {
   "cell_type": "code",
   "execution_count": 1,
   "id": "e8f64dfa",
   "metadata": {},
   "outputs": [],
   "source": [
    "import pandas as pd\n",
    "import numpy as np\n",
    "import matplotlib.pyplot as plt\n",
    "import seaborn as sns"
   ]
  },
  {
   "cell_type": "markdown",
   "id": "ce7aa23a",
   "metadata": {},
   "source": [
    "##  Dataset Info\n",
    "\n",
    "**Source:** [Engineering Student Journey – Kaggle](https://www.kaggle.com/datasets/rakeshkapilavai/engineering-student-journey)  \n",
    "**Author:** Rakesh Kapilavayi  \n",
    "**Updated:** ~20 days ago  \n",
    "**File:** `students.csv`\n",
    "\n",
    "---"
   ]
  },
  {
   "cell_type": "code",
   "execution_count": 2,
   "id": "346d4c62",
   "metadata": {},
   "outputs": [
    {
     "data": {
      "text/plain": [
       "Index(['Student ID', 'Name', 'Age', 'Gender', 'Branch', 'Average GPA',\n",
       "       'Backlogs', 'Attendance (%)', 'Clubs', 'Skills', 'Internship Done',\n",
       "       'Internship Domain', 'Placement Status', 'Placement Domain',\n",
       "       'CTC (LPA)', 'Alumni Path', 'Sem1 GPA', 'Sem2 GPA', 'Sem3 GPA',\n",
       "       'Sem4 GPA', 'Sem5 GPA', 'Sem6 GPA', 'Sem7 GPA', 'Sem8 GPA'],\n",
       "      dtype='object')"
      ]
     },
     "execution_count": 2,
     "metadata": {},
     "output_type": "execute_result"
    }
   ],
   "source": [
    "df = pd.read_csv(\"./data/students.csv\")\n",
    "df.columns"
   ]
  },
  {
   "cell_type": "markdown",
   "id": "d8d427fb",
   "metadata": {},
   "source": [
    "##  Data Cleaning & Feature Engineering\n",
    "\n",
    "- Parsed comma-separated `Skills` and `Clubs` into list format\n",
    "- One-hot encoded `Branch` and `Gender`\n",
    "- Transformed features like `Skills` and `Clubs` into counts\n",
    "- Dropped unused columns like individual semester GPAs except for Sem7\n",
    "- Normalized `Attendance (%)` and `Average GPA`\n",
    "- Created separate datasets for:\n",
    "  -  Regression (for predicting CTC)\n",
    "  -  Classification (for predicting Placement Status)\n",
    "\n",
    "---"
   ]
  },
  {
   "cell_type": "code",
   "execution_count": 3,
   "id": "6c25308f",
   "metadata": {},
   "outputs": [],
   "source": [
    "df[\"Skills\"] = df[\"Skills\"].map(lambda x: [s.strip() for s in x.split(\",\")])\n",
    "df[\"Clubs\"] = df[\"Clubs\"].map(lambda x: [c.strip() for c in x.split(\",\")])\n",
    "df[\"GPA_Trend\"] = df[\"Sem8 GPA\"] - df[\"Sem1 GPA\"]\n",
    "\n",
    "branches, skills, clubs = [], [], []\n",
    "for index, row in df.iterrows():\n",
    "    for skill in row[\"Skills\"]:\n",
    "        skills.append(skill)\n",
    "    for club in row[\"Clubs\"]:\n",
    "        clubs.append(club)\n",
    "\n",
    "branches = df[\"Branch\"].unique()\n",
    "skills = set(skills)\n",
    "clubs = set(clubs)"
   ]
  },
  {
   "cell_type": "code",
   "execution_count": 4,
   "id": "781c12b8",
   "metadata": {},
   "outputs": [],
   "source": [
    "df_cleaned = pd.get_dummies(df, columns=[\"Branch\", \"Gender\"], drop_first=True)\n",
    "df_cleaned[\"Skills\"] = df_cleaned[\"Skills\"].map(lambda x: len(x))\n",
    "df_cleaned[\"Clubs\"] = df_cleaned[\"Clubs\"].map(lambda x: len(x))\n",
    "df_cleaned.drop(columns=[\"Age\", \"Sem1 GPA\", \"Sem2 GPA\",\"Sem3 GPA\",\"Sem4 GPA\",\"Sem5 GPA\",\"Sem7 GPA\", \"Sem8 GPA\", \"Gender_Male\"], inplace=True)\n",
    "df_cleaned[\"Internship Done\"] = df_cleaned[\"Internship Done\"].map(lambda x: True if x == \"Yes\" else False)\n",
    "df_cleaned[\"Attendance (%)\"] = (df_cleaned[\"Attendance (%)\"] - df_cleaned[\"Attendance (%)\"].mean())/df_cleaned[\"Attendance (%)\"].std()\n",
    "df_cleaned[\"Average GPA\"] = (df_cleaned[\"Average GPA\"] - df_cleaned[\"Average GPA\"].mean())/df_cleaned[\"Average GPA\"].std()"
   ]
  },
  {
   "cell_type": "code",
   "execution_count": 5,
   "id": "f02a4fc5",
   "metadata": {},
   "outputs": [],
   "source": [
    "data_regression = df_cleaned.drop(columns=[\"Student ID\", \"Internship Domain\", \"Placement Domain\", \"Name\", \"Alumni Path\"])\n",
    "data_regression = data_regression[data_regression[\"Placement Status\"] == \"Placed\"]\n",
    "data_regression.drop(columns=[\"Placement Status\"], inplace=True)\n",
    "data_classification = df_cleaned.drop(columns=[\"Student ID\", \"Internship Domain\", \"Placement Domain\", \"Name\", \"Alumni Path\", \"CTC (LPA)\"])\n",
    "data_classification[\"Placement Status\"] = data_classification[\"Placement Status\"].map(lambda x: 1 if x == \"Placed\" else 0)"
   ]
  },
  {
   "cell_type": "code",
   "execution_count": 6,
   "id": "43a36cbf",
   "metadata": {},
   "outputs": [
    {
     "data": {
      "text/html": [
       "<div>\n",
       "<style scoped>\n",
       "    .dataframe tbody tr th:only-of-type {\n",
       "        vertical-align: middle;\n",
       "    }\n",
       "\n",
       "    .dataframe tbody tr th {\n",
       "        vertical-align: top;\n",
       "    }\n",
       "\n",
       "    .dataframe thead th {\n",
       "        text-align: right;\n",
       "    }\n",
       "</style>\n",
       "<table border=\"1\" class=\"dataframe\">\n",
       "  <thead>\n",
       "    <tr style=\"text-align: right;\">\n",
       "      <th></th>\n",
       "      <th>Average GPA</th>\n",
       "      <th>Backlogs</th>\n",
       "      <th>Attendance (%)</th>\n",
       "      <th>Clubs</th>\n",
       "      <th>Skills</th>\n",
       "      <th>Internship Done</th>\n",
       "      <th>Placement Status</th>\n",
       "      <th>Sem6 GPA</th>\n",
       "      <th>GPA_Trend</th>\n",
       "      <th>Branch_CSE</th>\n",
       "      <th>Branch_ECE</th>\n",
       "      <th>Branch_EEE</th>\n",
       "      <th>Branch_IT</th>\n",
       "      <th>Branch_MECH</th>\n",
       "    </tr>\n",
       "  </thead>\n",
       "  <tbody>\n",
       "    <tr>\n",
       "      <th>0</th>\n",
       "      <td>-0.036982</td>\n",
       "      <td>0</td>\n",
       "      <td>-0.723144</td>\n",
       "      <td>2</td>\n",
       "      <td>4</td>\n",
       "      <td>True</td>\n",
       "      <td>0</td>\n",
       "      <td>7.04</td>\n",
       "      <td>-2.35</td>\n",
       "      <td>False</td>\n",
       "      <td>False</td>\n",
       "      <td>False</td>\n",
       "      <td>False</td>\n",
       "      <td>True</td>\n",
       "    </tr>\n",
       "    <tr>\n",
       "      <th>1</th>\n",
       "      <td>-1.590560</td>\n",
       "      <td>0</td>\n",
       "      <td>-1.149367</td>\n",
       "      <td>2</td>\n",
       "      <td>3</td>\n",
       "      <td>False</td>\n",
       "      <td>0</td>\n",
       "      <td>6.99</td>\n",
       "      <td>-1.85</td>\n",
       "      <td>False</td>\n",
       "      <td>True</td>\n",
       "      <td>False</td>\n",
       "      <td>False</td>\n",
       "      <td>False</td>\n",
       "    </tr>\n",
       "    <tr>\n",
       "      <th>2</th>\n",
       "      <td>0.226833</td>\n",
       "      <td>0</td>\n",
       "      <td>0.499266</td>\n",
       "      <td>1</td>\n",
       "      <td>3</td>\n",
       "      <td>True</td>\n",
       "      <td>0</td>\n",
       "      <td>6.01</td>\n",
       "      <td>0.83</td>\n",
       "      <td>False</td>\n",
       "      <td>False</td>\n",
       "      <td>False</td>\n",
       "      <td>False</td>\n",
       "      <td>False</td>\n",
       "    </tr>\n",
       "    <tr>\n",
       "      <th>3</th>\n",
       "      <td>-0.242171</td>\n",
       "      <td>2</td>\n",
       "      <td>-1.421298</td>\n",
       "      <td>2</td>\n",
       "      <td>3</td>\n",
       "      <td>False</td>\n",
       "      <td>1</td>\n",
       "      <td>6.80</td>\n",
       "      <td>-0.47</td>\n",
       "      <td>False</td>\n",
       "      <td>True</td>\n",
       "      <td>False</td>\n",
       "      <td>False</td>\n",
       "      <td>False</td>\n",
       "    </tr>\n",
       "    <tr>\n",
       "      <th>4</th>\n",
       "      <td>0.256146</td>\n",
       "      <td>0</td>\n",
       "      <td>1.550333</td>\n",
       "      <td>1</td>\n",
       "      <td>4</td>\n",
       "      <td>True</td>\n",
       "      <td>0</td>\n",
       "      <td>6.18</td>\n",
       "      <td>1.68</td>\n",
       "      <td>False</td>\n",
       "      <td>False</td>\n",
       "      <td>True</td>\n",
       "      <td>False</td>\n",
       "      <td>False</td>\n",
       "    </tr>\n",
       "    <tr>\n",
       "      <th>...</th>\n",
       "      <td>...</td>\n",
       "      <td>...</td>\n",
       "      <td>...</td>\n",
       "      <td>...</td>\n",
       "      <td>...</td>\n",
       "      <td>...</td>\n",
       "      <td>...</td>\n",
       "      <td>...</td>\n",
       "      <td>...</td>\n",
       "      <td>...</td>\n",
       "      <td>...</td>\n",
       "      <td>...</td>\n",
       "      <td>...</td>\n",
       "      <td>...</td>\n",
       "    </tr>\n",
       "    <tr>\n",
       "      <th>1994</th>\n",
       "      <td>2.014913</td>\n",
       "      <td>2</td>\n",
       "      <td>1.152240</td>\n",
       "      <td>3</td>\n",
       "      <td>5</td>\n",
       "      <td>True</td>\n",
       "      <td>0</td>\n",
       "      <td>7.15</td>\n",
       "      <td>0.53</td>\n",
       "      <td>False</td>\n",
       "      <td>False</td>\n",
       "      <td>False</td>\n",
       "      <td>True</td>\n",
       "      <td>False</td>\n",
       "    </tr>\n",
       "    <tr>\n",
       "      <th>1995</th>\n",
       "      <td>0.725151</td>\n",
       "      <td>0</td>\n",
       "      <td>1.484695</td>\n",
       "      <td>2</td>\n",
       "      <td>4</td>\n",
       "      <td>False</td>\n",
       "      <td>0</td>\n",
       "      <td>5.91</td>\n",
       "      <td>1.51</td>\n",
       "      <td>False</td>\n",
       "      <td>False</td>\n",
       "      <td>False</td>\n",
       "      <td>False</td>\n",
       "      <td>False</td>\n",
       "    </tr>\n",
       "    <tr>\n",
       "      <th>1996</th>\n",
       "      <td>-0.242171</td>\n",
       "      <td>0</td>\n",
       "      <td>-0.308002</td>\n",
       "      <td>2</td>\n",
       "      <td>3</td>\n",
       "      <td>True</td>\n",
       "      <td>0</td>\n",
       "      <td>6.70</td>\n",
       "      <td>1.65</td>\n",
       "      <td>False</td>\n",
       "      <td>False</td>\n",
       "      <td>True</td>\n",
       "      <td>False</td>\n",
       "      <td>False</td>\n",
       "    </tr>\n",
       "    <tr>\n",
       "      <th>1997</th>\n",
       "      <td>0.256146</td>\n",
       "      <td>0</td>\n",
       "      <td>1.301419</td>\n",
       "      <td>3</td>\n",
       "      <td>5</td>\n",
       "      <td>True</td>\n",
       "      <td>1</td>\n",
       "      <td>6.71</td>\n",
       "      <td>-1.31</td>\n",
       "      <td>True</td>\n",
       "      <td>False</td>\n",
       "      <td>False</td>\n",
       "      <td>False</td>\n",
       "      <td>False</td>\n",
       "    </tr>\n",
       "    <tr>\n",
       "      <th>1998</th>\n",
       "      <td>-1.414683</td>\n",
       "      <td>0</td>\n",
       "      <td>-1.590082</td>\n",
       "      <td>1</td>\n",
       "      <td>5</td>\n",
       "      <td>False</td>\n",
       "      <td>0</td>\n",
       "      <td>6.52</td>\n",
       "      <td>1.28</td>\n",
       "      <td>False</td>\n",
       "      <td>False</td>\n",
       "      <td>False</td>\n",
       "      <td>True</td>\n",
       "      <td>False</td>\n",
       "    </tr>\n",
       "  </tbody>\n",
       "</table>\n",
       "<p>1999 rows × 14 columns</p>\n",
       "</div>"
      ],
      "text/plain": [
       "      Average GPA  Backlogs  Attendance (%)  Clubs  Skills  Internship Done  \\\n",
       "0       -0.036982         0       -0.723144      2       4             True   \n",
       "1       -1.590560         0       -1.149367      2       3            False   \n",
       "2        0.226833         0        0.499266      1       3             True   \n",
       "3       -0.242171         2       -1.421298      2       3            False   \n",
       "4        0.256146         0        1.550333      1       4             True   \n",
       "...           ...       ...             ...    ...     ...              ...   \n",
       "1994     2.014913         2        1.152240      3       5             True   \n",
       "1995     0.725151         0        1.484695      2       4            False   \n",
       "1996    -0.242171         0       -0.308002      2       3             True   \n",
       "1997     0.256146         0        1.301419      3       5             True   \n",
       "1998    -1.414683         0       -1.590082      1       5            False   \n",
       "\n",
       "      Placement Status  Sem6 GPA  GPA_Trend  Branch_CSE  Branch_ECE  \\\n",
       "0                    0      7.04      -2.35       False       False   \n",
       "1                    0      6.99      -1.85       False        True   \n",
       "2                    0      6.01       0.83       False       False   \n",
       "3                    1      6.80      -0.47       False        True   \n",
       "4                    0      6.18       1.68       False       False   \n",
       "...                ...       ...        ...         ...         ...   \n",
       "1994                 0      7.15       0.53       False       False   \n",
       "1995                 0      5.91       1.51       False       False   \n",
       "1996                 0      6.70       1.65       False       False   \n",
       "1997                 1      6.71      -1.31        True       False   \n",
       "1998                 0      6.52       1.28       False       False   \n",
       "\n",
       "      Branch_EEE  Branch_IT  Branch_MECH  \n",
       "0          False      False         True  \n",
       "1          False      False        False  \n",
       "2          False      False        False  \n",
       "3          False      False        False  \n",
       "4           True      False        False  \n",
       "...          ...        ...          ...  \n",
       "1994       False       True        False  \n",
       "1995       False      False        False  \n",
       "1996        True      False        False  \n",
       "1997       False      False        False  \n",
       "1998       False       True        False  \n",
       "\n",
       "[1999 rows x 14 columns]"
      ]
     },
     "execution_count": 6,
     "metadata": {},
     "output_type": "execute_result"
    }
   ],
   "source": [
    "data_classification"
   ]
  },
  {
   "cell_type": "markdown",
   "id": "44f4dbc3",
   "metadata": {},
   "source": [
    "## Classification Task: Will the student get placed?\n",
    "\n",
    "We train two models on the same data:\n",
    "- **Logistic Regression**\n",
    "- **Random Forest Classifier**\n",
    "\n",
    "---"
   ]
  },
  {
   "cell_type": "code",
   "execution_count": 7,
   "id": "44d292c8",
   "metadata": {},
   "outputs": [],
   "source": [
    "from sklearn.model_selection import train_test_split\n",
    "X_classification = data_classification.drop(columns=[\"Placement Status\"])\n",
    "y_classification = data_classification[\"Placement Status\"]\n",
    "X_train_clas, X_test_clas, y_train_clas, y_test_clas = train_test_split(X_classification, y_classification, test_size=0.2, random_state=42)"
   ]
  },
  {
   "cell_type": "code",
   "execution_count": 8,
   "id": "5cb65f7a",
   "metadata": {},
   "outputs": [
    {
     "name": "stdout",
     "output_type": "stream",
     "text": [
      "Accuracy: 0.5025\n"
     ]
    }
   ],
   "source": [
    "from sklearn.linear_model import LogisticRegression\n",
    "\n",
    "lr = LogisticRegression()\n",
    "lr.fit(X_train_clas, y_train_clas)\n",
    "print(f\"Accuracy: {lr.score(X_test_clas, y_test_clas)}\")"
   ]
  },
  {
   "cell_type": "code",
   "execution_count": 9,
   "id": "132df60d",
   "metadata": {},
   "outputs": [
    {
     "name": "stdout",
     "output_type": "stream",
     "text": [
      "Accuracy: 0.88\n"
     ]
    }
   ],
   "source": [
    "from sklearn.ensemble import RandomForestClassifier\n",
    "\n",
    "rf = RandomForestClassifier()\n",
    "rf.fit(X_train_clas, y_train_clas)\n",
    "print(f\"Accuracy: {rf.score(X_test_clas, y_test_clas)}\")"
   ]
  },
  {
   "cell_type": "markdown",
   "id": "425ce205",
   "metadata": {},
   "source": [
    "## 🧾 Model Comparison Summary\n",
    "\n",
    "| Model              | Accuracy | Notes                                 |\n",
    "|-------------------|----------|----------------------------------------|\n",
    "| Logistic Regression | 50%     | Underfitting, linear boundary issues   |\n",
    "| Random Forest       | 89%     | Nonlinear, robust to mixed features    |\n"
   ]
  },
  {
   "cell_type": "code",
   "execution_count": 10,
   "id": "56f4ddb0",
   "metadata": {},
   "outputs": [],
   "source": [
    "feature_names = X_train_clas.columns\n",
    "lr_feature_importance = lr.coef_.flatten()\n",
    "rf_feature_importance = rf.feature_importances_"
   ]
  },
  {
   "cell_type": "markdown",
   "id": "71cea008",
   "metadata": {},
   "source": [
    "##  Feature Importance: Logistic Regression vs Random Forest\n",
    "\n",
    "> Feature importances visualized side-by-side for both models\n",
    "\n",
    "---"
   ]
  },
  {
   "cell_type": "code",
   "execution_count": 11,
   "id": "66057f02",
   "metadata": {},
   "outputs": [
    {
     "data": {
      "text/plain": [
       "<Figure size 1000x800 with 0 Axes>"
      ]
     },
     "metadata": {},
     "output_type": "display_data"
    },
    {
     "data": {
      "image/png": "[encoded data removed]",
      "text/plain": [
       "<Figure size 1000x800 with 1 Axes>"
      ]
     },
     "metadata": {},
     "output_type": "display_data"
    }
   ],
   "source": [
    "importance_df = pd.DataFrame({\n",
    "    \"Feature\": feature_names,\n",
    "    \"Logistic Regression\": lr_feature_importance,\n",
    "    \"Random Forest\": rf_feature_importance\n",
    "})\n",
    "\n",
    "# Optional: Sort by Random Forest importance for better visual clarity\n",
    "importance_df = importance_df.sort_values(by=\"Random Forest\", ascending=True)\n",
    "\n",
    "# 5. Plot\n",
    "plt.figure(figsize=(10, 8))\n",
    "sns.set_style(\"whitegrid\")\n",
    "\n",
    "# Horizontal bar chart\n",
    "importance_df.set_index(\"Feature\").plot(kind='barh', figsize=(10, 8))\n",
    "plt.title(\"Feature Importances: Logistic Regression vs Random Forest\")\n",
    "plt.xlabel(\"Importance Value\")\n",
    "plt.ylabel(\"Feature\")\n",
    "plt.tight_layout()\n",
    "plt.show()\n"
   ]
  },
  {
   "cell_type": "markdown",
   "id": "2ace2a47",
   "metadata": {},
   "source": [
    "## Important Highlights from Classification\n",
    "\n",
    "1. **Random Forest massively outperforms Logistic Regression**, suggesting that the relationship between student features and placement success is **non-linear**.\n",
    "2. **Top Influential Features**:\n",
    "    - Sem6 SGPA 📈\n",
    "    - Attendance (%) 📈\n",
    "    - Overall CGPA 📈\n",
    "    - Backlogs 📉\n",
    "3. Logistic Regression gave very high weight to **Branch**, whereas Random Forest gave it low importance.  \n",
    "   → **Conclusion:** Branch likely isn't a key determinant for placement success.\n",
    "\n",
    "---"
   ]
  },
  {
   "cell_type": "markdown",
   "id": "cd1af574",
   "metadata": {},
   "source": [
    "## Regression Task: Predicting Salary (CTC in LPA)\n",
    "\n",
    "In this section, we predict the **expected CTC (in LPA)** for students who were placed using supervised regression models. \n",
    "\n",
    "We evaluate both:\n",
    "-  **Linear Regression** (assumes a linear relationship between features and CTC)\n",
    "-  **Random Forest Regressor** (a nonlinear, ensemble-based method)\n",
    "\n",
    "---"
   ]
  },
  {
   "cell_type": "code",
   "execution_count": 12,
   "id": "c9cd4561",
   "metadata": {},
   "outputs": [],
   "source": [
    "X_regression = data_regression.drop(columns=[\"CTC (LPA)\"])\n",
    "y_regression = data_regression[\"CTC (LPA)\"]\n",
    "X_train_reg, X_test_reg, y_train_reg, y_test_reg = train_test_split(X_regression, y_regression, test_size=0.2, random_state=42)"
   ]
  },
  {
   "cell_type": "code",
   "execution_count": 13,
   "id": "29bb0be8",
   "metadata": {},
   "outputs": [
    {
     "name": "stdout",
     "output_type": "stream",
     "text": [
      "R2: -0.025523870931782433\n"
     ]
    }
   ],
   "source": [
    "from sklearn.linear_model import LinearRegression\n",
    "\n",
    "lreg = LinearRegression()\n",
    "lreg.fit(X_train_reg, y_train_reg)\n",
    "print(f\"R2: {lreg.score(X_test_reg, y_test_reg)}\")"
   ]
  },
  {
   "cell_type": "code",
   "execution_count": 14,
   "id": "95a613d0",
   "metadata": {},
   "outputs": [
    {
     "name": "stdout",
     "output_type": "stream",
     "text": [
      "R2: 0.5625396426908299\n"
     ]
    }
   ],
   "source": [
    "from sklearn.ensemble import RandomForestRegressor\n",
    "\n",
    "rfreg = RandomForestRegressor()\n",
    "rfreg.fit(X_train_reg, y_train_reg)\n",
    "print(f\"R2: {rfreg.score(X_test_reg, y_test_reg)}\")"
   ]
  },
  {
   "cell_type": "markdown",
   "id": "d5f9f5e1",
   "metadata": {},
   "source": [
    "###  Model Results\n",
    "\n",
    "| Model                 | R² Score | Notes                                               |\n",
    "|----------------------|----------|-----------------------------------------------------|\n",
    "| Linear Regression     | ~0.00    | Model fails to learn patterns; underfits completely |\n",
    "| Random Forest Regressor | ~0.54    | Captures important nonlinear relationships in data  |\n",
    "\n",
    "---"
   ]
  },
  {
   "cell_type": "code",
   "execution_count": 15,
   "id": "74d7e81b",
   "metadata": {},
   "outputs": [],
   "source": [
    "feature_names = X_train_reg.columns\n",
    "lreg_feature_importance = lreg.coef_.flatten()\n",
    "rfreg_feature_importance = rfreg.feature_importances_"
   ]
  },
  {
   "cell_type": "code",
   "execution_count": 16,
   "id": "a89b4696",
   "metadata": {},
   "outputs": [
    {
     "data": {
      "text/plain": [
       "<Figure size 1000x800 with 0 Axes>"
      ]
     },
     "metadata": {},
     "output_type": "display_data"
    },
    {
     "data": {
      "image/png": "[encoded data removed]",
      "text/plain": [
       "<Figure size 1000x800 with 1 Axes>"
      ]
     },
     "metadata": {},
     "output_type": "display_data"
    }
   ],
   "source": [
    "importance_df = pd.DataFrame({\n",
    "    \"Feature\": feature_names,\n",
    "    \"Logistic Regression\": lreg_feature_importance,\n",
    "    \"Random Forest\": rfreg_feature_importance\n",
    "})\n",
    "\n",
    "# Optional: Sort by Random Forest importance for better visual clarity\n",
    "importance_df = importance_df.sort_values(by=\"Random Forest\", ascending=True)\n",
    "\n",
    "# 5. Plot\n",
    "plt.figure(figsize=(10, 8))\n",
    "sns.set_style(\"whitegrid\")\n",
    "\n",
    "# Horizontal bar chart\n",
    "importance_df.set_index(\"Feature\").plot(kind='barh', figsize=(10, 8))\n",
    "plt.title(\"Feature Importances: Logistic Regression vs Random Forest\")\n",
    "plt.xlabel(\"Importance Value\")\n",
    "plt.ylabel(\"Feature\")\n",
    "plt.tight_layout()\n",
    "plt.show()\n"
   ]
  },
  {
   "cell_type": "markdown",
   "id": "03d65474",
   "metadata": {},
   "source": [
    "### 📊 Key Feature Insights (CTC Prediction)\n",
    "\n",
    "Based on feature importance from Random Forest:\n",
    "- ✅ **CGPA and SGPA** → Strongest positive correlation with higher salary\n",
    "- ✅ **GPA Trend** (improvement over semesters) → Indicates growth\n",
    "- ✅ **Attendance (%)** → Consistently relevant\n",
    "- ✅ **Internship Done** → Boosts salary potential\n",
    "- ❌ **Backlogs** → Negatively impact offers\n",
    "\n",
    "> Linear Regression struggled due to inability to model interactions and nonlinearity, while Random Forest captured more realistic patterns in salary distribution.\n",
    "\n",
    "---"
   ]
  },
  {
   "cell_type": "markdown",
   "id": "e3cf7b66",
   "metadata": {},
   "source": [
    "##  Final Conclusion\n",
    "\n",
    "---\n",
    "\n",
    "###  Summary of Findings:\n",
    "\n",
    "- **Placement Prediction** (Classification):\n",
    "  - Random Forest achieved **~89% accuracy**\n",
    "  - Academic consistency, attendance, and fewer backlogs were strong predictors\n",
    "\n",
    "- **Salary Prediction** (Regression):\n",
    "  - Random Forest Regressor achieved **R² ≈ 0.54**\n",
    "  - Indicates a meaningful but imperfect relationship between input features and salary outcomes\n",
    "  - Linear regression failed, suggesting the need for nonlinear modeling\n",
    "\n",
    "---\n",
    "\n",
    "###  Takeaways:\n",
    "\n",
    "- **Academic performance**, while important, is **not the only factor** — skills, internships, and consistency matter\n",
    "-  **Nonlinear models** like Random Forest outperform simpler approaches on real-world education data\n",
    "-  With deeper feature engineering and better data (like company-wise offers or resume quality), performance could further improve\n",
    "\n",
    "---\n"
   ]
  },
  {
   "cell_type": "markdown",
   "id": "ebeea248",
   "metadata": {},
   "source": [
    "Exporting Models"
   ]
  },
  {
   "cell_type": "code",
   "execution_count": 17,
   "id": "cf94928e",
   "metadata": {},
   "outputs": [],
   "source": [
    "import pickle\n",
    "\n",
    "with open(\"classification_rf_model.pkl\", \"wb\") as f:\n",
    "    pickle.dump(rf, f)\n",
    "\n",
    "with open(\"regression_rf_model.pkl\", \"wb\") as f:\n",
    "    pickle.dump(rfreg, f)"
   ]
  }
 ],
 "metadata": {
  "kernelspec": {
   "display_name": "pydata-book",
   "language": "python",
   "name": "python3"
  },
  "language_info": {
   "codemirror_mode": {
    "name": "ipython",
    "version": 3
   },
   "file_extension": ".py",
   "mimetype": "text/x-python",
   "name": "python",
   "nbconvert_exporter": "python",
   "pygments_lexer": "ipython3",
   "version": "3.10.15"
  }
 },
 "nbformat": 4,
 "nbformat_minor": 5
}
